{
 "cells": [
  {
   "cell_type": "code",
   "execution_count": null,
   "metadata": {},
   "outputs": [],
   "source": [
    "import numpy as np"
   ]
  },
  {
   "cell_type": "code",
   "execution_count": null,
   "metadata": {},
   "outputs": [],
   "source": [
    "def func(x):\n",
    "    return np.exp(-2.*x) * np.cos(10.*x)"
   ]
  },
  {
   "cell_type": "code",
   "execution_count": null,
   "metadata": {},
   "outputs": [],
   "source": [
    "def int_func(x):\n",
    "    return np.exp(-2.*x) * (5.*np.sin(10.*x) - np.cos(10.*x)) / 52."
   ]
  },
  {
   "cell_type": "code",
   "execution_count": null,
   "metadata": {},
   "outputs": [],
   "source": [
    "int_func(np.pi) - int_func(0)"
   ]
  },
  {
   "cell_type": "markdown",
   "metadata": {},
   "source": [
    "# Trapezoid Method"
   ]
  },
  {
   "cell_type": "code",
   "execution_count": null,
   "metadata": {},
   "outputs": [],
   "source": [
    "def trap_core(f,x,h):\n",
    "    return 0.5*h*(f(x + h) + f(x))"
   ]
  },
  {
   "cell_type": "code",
   "execution_count": null,
   "metadata": {},
   "outputs": [],
   "source": [
    "def trap_method(f,a,b,N):\n",
    "    # f is the function to integrate\n",
    "    # a, b are the lower and upper limits of integration respectively\n",
    "    # N is the number of function evaluations to use over the subinterval\n",
    "    \n",
    "    #define an interval of x-values\n",
    "    x = np.linspace(a,b,N)\n",
    "    h = x[1] - x[0]\n",
    "    \n",
    "    #give init value to integral\n",
    "    Fint = 0.0\n",
    "    \n",
    "    #perform the integration\n",
    "    for i in range(0,len(x)-1,1):\n",
    "        Fint += trap_core(f, x[i], h)\n",
    "        \n",
    "    return Fint"
   ]
  },
  {
   "cell_type": "code",
   "execution_count": null,
   "metadata": {},
   "outputs": [],
   "source": [
    "print(trap_method(func, 0, np.pi, 1000), 'using 1000 intervals')"
   ]
  },
  {
   "cell_type": "markdown",
   "metadata": {},
   "source": [
    "# Simpson's Method"
   ]
  },
  {
   "cell_type": "code",
   "execution_count": null,
   "metadata": {},
   "outputs": [],
   "source": [
    "def simpson_core(f,x,h):\n",
    "    return h * (f(x) + 4*f(x+h) + f(x+2*h)) / 3."
   ]
  },
  {
   "cell_type": "code",
   "execution_count": null,
   "metadata": {},
   "outputs": [],
   "source": [
    "def simpson_method(f,a,b,N):\n",
    "    # f is the function to integrate\n",
    "    # a, b are the lower and upper limits of integration respectively\n",
    "    # N is the number of function evaluations to use over the subinterval\n",
    "    \n",
    "    #define interval of x-values\n",
    "    x = np.linspace(a,b,N)\n",
    "    h = x[1] - x[0]\n",
    "    \n",
    "    #give init value to integral\n",
    "    Fint = 0.0\n",
    "    \n",
    "    #perform integral using simpson's method\n",
    "    for i in range(0,len(x)-2,2):\n",
    "        Fint += simpson_core(f,x[i],h)\n",
    "        \n",
    "    #apply simpson's rule over last interval if N is even\n",
    "    if((N%2)) == 0:\n",
    "        Fint += simpson_core(f,x[-2],0.5*h)\n",
    "        \n",
    "    return Fint"
   ]
  },
  {
   "cell_type": "code",
   "execution_count": null,
   "metadata": {},
   "outputs": [],
   "source": [
    "print(simpson_method(func, 0, np.pi, 1000), 'using 1000 intervals')"
   ]
  },
  {
   "cell_type": "markdown",
   "metadata": {},
   "source": [
    "# Romberg Integration"
   ]
  },
  {
   "cell_type": "code",
   "execution_count": null,
   "metadata": {},
   "outputs": [],
   "source": [
    "def romberg_core(f,a,b,i):\n",
    "        #length of x subinterval\n",
    "        h = b-a\n",
    "        \n",
    "        #differential increment between function outputs\n",
    "        dh = h/2.**(i)\n",
    "        \n",
    "        #determine cofactor\n",
    "        K = h/2.**(i+1)\n",
    "        \n",
    "        #determine function values\n",
    "        M = 0.0\n",
    "        for j in range(2**i):\n",
    "            M += f(a + 0.5*dh + j*dh)\n",
    "            \n",
    "        return K*M"
   ]
  },
  {
   "cell_type": "code",
   "execution_count": null,
   "metadata": {},
   "outputs": [],
   "source": [
    "def romberg_integration(f,a,b,tol):\n",
    "\n",
    "    #define an iteration counter\n",
    "    i = 0\n",
    "    \n",
    "    #maximum bummber of iterations\n",
    "    imax = 1000\n",
    "    \n",
    "    #set initial large error estimate\n",
    "    delta = 100.0 * np.fabs(tol)\n",
    "    \n",
    "    #define array of integral outputs\n",
    "    I = np.zeros(imax, dtype=float)\n",
    "    \n",
    "    #zeroth romberg iteration\n",
    "    I[0] = 0.5* (b-a) * (f(a) + f(b))\n",
    "    \n",
    "    i += 1\n",
    "    \n",
    "    while delta>tol:\n",
    "        I[i] = 0.5*I[i-1] + romberg_core(f,a,b,i)\n",
    "        \n",
    "        delta = np.fabs((I[i]-I[i-1]) / I[i])\n",
    "        \n",
    "        if delta>tol:\n",
    "            \n",
    "            i+=1\n",
    "            \n",
    "            #maximum number of iterations reached before approaching tolerance\n",
    "            if i>imax:\n",
    "                print(\"Max iterations reached.\")\n",
    "    print(i)\n",
    "    return I[i]"
   ]
  },
  {
   "cell_type": "code",
   "execution_count": null,
   "metadata": {},
   "outputs": [],
   "source": [
    "romberg_integration(func, 0, np.pi, 10 ** -6)"
   ]
  }
 ],
 "metadata": {
  "kernelspec": {
   "display_name": "Python 3",
   "language": "python",
   "name": "python3"
  },
  "language_info": {
   "codemirror_mode": {
    "name": "ipython",
    "version": 3
   },
   "file_extension": ".py",
   "mimetype": "text/x-python",
   "name": "python",
   "nbconvert_exporter": "python",
   "pygments_lexer": "ipython3",
   "version": "3.6.4"
  }
 },
 "nbformat": 4,
 "nbformat_minor": 2
}
